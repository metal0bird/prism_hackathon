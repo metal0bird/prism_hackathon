{
 "cells": [
  {
   "cell_type": "code",
   "execution_count": null,
   "metadata": {},
   "outputs": [],
   "source": [
    "{\n",
    "  \"deviceId\": \"6f5ea629-4c05-4a90-a244-cc129b0a80c3\",\n",
    "  \"name\": \"color.light.100x\",\n",
    "  \"label\": \"color.light.100x\",\n",
    "  \"manufacturerName\": \"SmartThings\",\n",
    "  \"presentationId\": \"VD-STV_2018_K\",\n",
    "  \"deviceManufacturerCode\": \"010F-0B01-2002\",\n",
    "  \"components\": [\n",
    "    {\n",
    "      \"label\": \"string\",\n",
    "      \"id\": \"main\",\n",
    "      \"capabilities\": [\n",
    "        {\n",
    "          \"id\": \"switch\",\n",
    "          \"version\": 1,\n",
    "          \"config\": {\n",
    "            \"values\": [\n",
    "              {\n",
    "                \"key\": \"thermostatMode.value\",\n",
    "                \"range\": \"[1, 50]\",\n",
    "                \"enabledValues\": \"[ \\\"cooling\\\", \\\"fan only\\\", \\\"heating\\\", \\\"idle\\\" ]\",\n",
    "                \"step\": 1\n",
    "              }\n",
    "            ]\n",
    "          }\n",
    "        }\n",
    "      ]\n",
    "    }\n",
    "  ]\n",
    "}"
   ]
  },
  {
   "cell_type": "markdown",
   "metadata": {},
   "source": [
    "  \"locationId\": \"0c0b935d-0616-4441-a0bf-da7aeec3dc0a\",\n",
    "  \"ownerId\": \"1c75f712-2c3e-4e51-970c-a42ae7aedbdc\",\n",
    "  \"roomId\": \"0fd2b1ef-1b33-4a54-9153-65aca91e9660\","
   ]
  }
 ],
 "metadata": {
  "language_info": {
   "name": "python"
  }
 },
 "nbformat": 4,
 "nbformat_minor": 2
}
