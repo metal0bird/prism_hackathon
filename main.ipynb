{
 "cells": [
  {
   "cell_type": "code",
   "execution_count": 5,
   "metadata": {},
   "outputs": [
    {
     "name": "stdout",
     "output_type": "stream",
     "text": [
      "[\n",
      "  {\n",
      "    \"on\": true,\n",
      "    \"playing\": \"Netflix\",\n",
      "    \"volume\": 20,\n",
      "    \"muted\": false,\n",
      "    \"source\": \"hdmi1\"\n",
      "  },\n",
      "  {\n",
      "    \"position\": 50,\n",
      "    \"tilt\": 0\n",
      "  }\n",
      "]\n"
     ]
    }
   ],
   "source": [
    "import json\n",
    "\n",
    "def get_device_details(device_names, devices_json_file):\n",
    "\n",
    "  try:\n",
    "    with open(devices_json_file) as f:\n",
    "      devices_info = json.load(f)\n",
    "  except FileNotFoundError:\n",
    "    print(f\"Error: Could not find file {devices_json_file}\")\n",
    "    return \"\"\n",
    "  except json.JSONDecodeError:\n",
    "    print(f\"Error: Could not parse JSON file {devices_json_file}\")\n",
    "    return \"\"\n",
    "\n",
    "  devices = []\n",
    "  for device_info in devices_info:\n",
    "    if device_info[\"name\"] in device_names.split(\",\"):\n",
    "      devices.append(device_info[\"state\"])\n",
    "\n",
    "  if not devices:\n",
    "    return \"\"\n",
    "\n",
    "  return json.dumps(devices, indent=2)\n",
    "\n",
    "\n",
    "device_names = \"Living Room Blinds,Living Room TV\"\n",
    "devices_json_file = \"devices.json\"  \n",
    "device_details = get_device_details(device_names, devices_json_file)\n",
    "\n",
    "if device_details:\n",
    "  print(device_details)\n",
    "else:\n",
    "  print(\"No matching devices found.\")\n"
   ]
  }
 ],
 "metadata": {
  "kernelspec": {
   "display_name": "Python 3",
   "language": "python",
   "name": "python3"
  },
  "language_info": {
   "codemirror_mode": {
    "name": "ipython",
    "version": 3
   },
   "file_extension": ".py",
   "mimetype": "text/x-python",
   "name": "python",
   "nbconvert_exporter": "python",
   "pygments_lexer": "ipython3",
   "version": "3.11.3"
  }
 },
 "nbformat": 4,
 "nbformat_minor": 2
}
